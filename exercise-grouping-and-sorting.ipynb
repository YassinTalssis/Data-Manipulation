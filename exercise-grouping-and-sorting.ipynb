{
 "cells": [
  {
   "cell_type": "markdown",
   "id": "763c07db",
   "metadata": {
    "papermill": {
     "duration": 0.007577,
     "end_time": "2022-07-13T19:32:42.953140",
     "exception": false,
     "start_time": "2022-07-13T19:32:42.945563",
     "status": "completed"
    },
    "tags": []
   },
   "source": [
    "**This notebook is an exercise in the [Pandas](https://www.kaggle.com/learn/pandas) course.  You can reference the tutorial at [this link](https://www.kaggle.com/residentmario/grouping-and-sorting).**\n",
    "\n",
    "---\n"
   ]
  },
  {
   "cell_type": "markdown",
   "id": "efd63435",
   "metadata": {
    "papermill": {
     "duration": 0.006587,
     "end_time": "2022-07-13T19:32:42.966478",
     "exception": false,
     "start_time": "2022-07-13T19:32:42.959891",
     "status": "completed"
    },
    "tags": []
   },
   "source": [
    "# Introduction\n",
    "\n",
    "In these exercises we'll apply groupwise analysis to our dataset.\n",
    "\n",
    "Run the code cell below to load the data before running the exercises."
   ]
  },
  {
   "cell_type": "code",
   "execution_count": 1,
   "id": "3f922d79",
   "metadata": {
    "execution": {
     "iopub.execute_input": "2022-07-13T19:32:42.982693Z",
     "iopub.status.busy": "2022-07-13T19:32:42.981911Z",
     "iopub.status.idle": "2022-07-13T19:32:46.027901Z",
     "shell.execute_reply": "2022-07-13T19:32:46.026669Z"
    },
    "papermill": {
     "duration": 3.058253,
     "end_time": "2022-07-13T19:32:46.031757",
     "exception": false,
     "start_time": "2022-07-13T19:32:42.973504",
     "status": "completed"
    },
    "tags": []
   },
   "outputs": [
    {
     "name": "stdout",
     "output_type": "stream",
     "text": [
      "Setup complete.\n"
     ]
    }
   ],
   "source": [
    "import pandas as pd\n",
    "\n",
    "reviews = pd.read_csv(\"../input/wine-reviews/winemag-data-130k-v2.csv\", index_col=0)\n",
    "#pd.set_option(\"display.max_rows\", 5)\n",
    "\n",
    "from learntools.core import binder; binder.bind(globals())\n",
    "from learntools.pandas.grouping_and_sorting import *\n",
    "print(\"Setup complete.\")"
   ]
  },
  {
   "cell_type": "markdown",
   "id": "4318a17b",
   "metadata": {
    "papermill": {
     "duration": 0.00699,
     "end_time": "2022-07-13T19:32:46.045999",
     "exception": false,
     "start_time": "2022-07-13T19:32:46.039009",
     "status": "completed"
    },
    "tags": []
   },
   "source": [
    "# Exercises"
   ]
  },
  {
   "cell_type": "markdown",
   "id": "d3bc4f56",
   "metadata": {
    "papermill": {
     "duration": 0.006603,
     "end_time": "2022-07-13T19:32:46.059499",
     "exception": false,
     "start_time": "2022-07-13T19:32:46.052896",
     "status": "completed"
    },
    "tags": []
   },
   "source": [
    "## 1.\n",
    "Who are the most common wine reviewers in the dataset? Create a `Series` whose index is the `taster_twitter_handle` category from the dataset, and whose values count how many reviews each person wrote."
   ]
  },
  {
   "cell_type": "code",
   "execution_count": 2,
   "id": "c756f0b5",
   "metadata": {
    "execution": {
     "iopub.execute_input": "2022-07-13T19:32:46.075375Z",
     "iopub.status.busy": "2022-07-13T19:32:46.074996Z",
     "iopub.status.idle": "2022-07-13T19:32:46.121761Z",
     "shell.execute_reply": "2022-07-13T19:32:46.120944Z"
    },
    "papermill": {
     "duration": 0.057367,
     "end_time": "2022-07-13T19:32:46.123669",
     "exception": false,
     "start_time": "2022-07-13T19:32:46.066302",
     "status": "completed"
    },
    "tags": []
   },
   "outputs": [
    {
     "data": {
      "application/javascript": [
       "parent.postMessage({\"jupyterEvent\": \"custom.exercise_interaction\", \"data\": {\"outcomeType\": 1, \"valueTowardsCompletion\": 0.16666666666666666, \"interactionType\": 1, \"questionType\": 1, \"questionId\": \"1_ReviewsWritten\", \"learnToolsVersion\": \"0.3.4\", \"failureMessage\": \"\", \"exceptionClass\": \"\", \"trace\": \"\"}}, \"*\")"
      ],
      "text/plain": [
       "<IPython.core.display.Javascript object>"
      ]
     },
     "metadata": {},
     "output_type": "display_data"
    },
    {
     "data": {
      "text/markdown": [
       "<span style=\"color:#33cc33\">Correct:</span> \n",
       "\n",
       "\n",
       "```python\n",
       "reviews_written = reviews.groupby('taster_twitter_handle').size()\n",
       "```\n",
       "or\n",
       "```python\n",
       "reviews_written = reviews.groupby('taster_twitter_handle').taster_twitter_handle.count()\n",
       "```\n"
      ],
      "text/plain": [
       "Correct: \n",
       "\n",
       "\n",
       "```python\n",
       "reviews_written = reviews.groupby('taster_twitter_handle').size()\n",
       "```\n",
       "or\n",
       "```python\n",
       "reviews_written = reviews.groupby('taster_twitter_handle').taster_twitter_handle.count()\n",
       "```"
      ]
     },
     "metadata": {},
     "output_type": "display_data"
    }
   ],
   "source": [
    "# Your code here\n",
    "reviews_written = reviews.groupby('taster_twitter_handle').description.count()\n",
    "# Check your answer\n",
    "q1.check()"
   ]
  },
  {
   "cell_type": "code",
   "execution_count": 3,
   "id": "7cb21a19",
   "metadata": {
    "execution": {
     "iopub.execute_input": "2022-07-13T19:32:46.139576Z",
     "iopub.status.busy": "2022-07-13T19:32:46.138860Z",
     "iopub.status.idle": "2022-07-13T19:32:46.147389Z",
     "shell.execute_reply": "2022-07-13T19:32:46.146246Z"
    },
    "papermill": {
     "duration": 0.019127,
     "end_time": "2022-07-13T19:32:46.149693",
     "exception": false,
     "start_time": "2022-07-13T19:32:46.130566",
     "status": "completed"
    },
    "tags": []
   },
   "outputs": [
    {
     "data": {
      "application/javascript": [
       "parent.postMessage({\"jupyterEvent\": \"custom.exercise_interaction\", \"data\": {\"interactionType\": 2, \"questionType\": 1, \"questionId\": \"1_ReviewsWritten\", \"learnToolsVersion\": \"0.3.4\", \"valueTowardsCompletion\": 0.0, \"failureMessage\": \"\", \"exceptionClass\": \"\", \"trace\": \"\", \"outcomeType\": 4}}, \"*\")"
      ],
      "text/plain": [
       "<IPython.core.display.Javascript object>"
      ]
     },
     "metadata": {},
     "output_type": "display_data"
    },
    {
     "data": {
      "text/markdown": [
       "<span style=\"color:#3366cc\">Hint:</span> Use the `groupby` operation and `size()` (or `count()`)."
      ],
      "text/plain": [
       "Hint: Use the `groupby` operation and `size()` (or `count()`)."
      ]
     },
     "metadata": {},
     "output_type": "display_data"
    }
   ],
   "source": [
    "q1.hint()\n",
    "#q1.solution()"
   ]
  },
  {
   "cell_type": "markdown",
   "id": "a198e071",
   "metadata": {
    "papermill": {
     "duration": 0.006823,
     "end_time": "2022-07-13T19:32:46.163651",
     "exception": false,
     "start_time": "2022-07-13T19:32:46.156828",
     "status": "completed"
    },
    "tags": []
   },
   "source": [
    "## 2.\n",
    "What is the best wine I can buy for a given amount of money? Create a `Series` whose index is wine prices and whose values is the maximum number of points a wine costing that much was given in a review. Sort the values by price, ascending (so that `4.0` dollars is at the top and `3300.0` dollars is at the bottom)."
   ]
  },
  {
   "cell_type": "code",
   "execution_count": 4,
   "id": "8fc55c39",
   "metadata": {
    "execution": {
     "iopub.execute_input": "2022-07-13T19:32:46.179460Z",
     "iopub.status.busy": "2022-07-13T19:32:46.179045Z",
     "iopub.status.idle": "2022-07-13T19:32:46.192280Z",
     "shell.execute_reply": "2022-07-13T19:32:46.191267Z"
    },
    "papermill": {
     "duration": 0.023575,
     "end_time": "2022-07-13T19:32:46.194228",
     "exception": false,
     "start_time": "2022-07-13T19:32:46.170653",
     "status": "completed"
    },
    "tags": []
   },
   "outputs": [
    {
     "data": {
      "application/javascript": [
       "parent.postMessage({\"jupyterEvent\": \"custom.exercise_interaction\", \"data\": {\"outcomeType\": 1, \"valueTowardsCompletion\": 0.16666666666666666, \"interactionType\": 1, \"questionType\": 1, \"questionId\": \"2_BestRatingPerPrice\", \"learnToolsVersion\": \"0.3.4\", \"failureMessage\": \"\", \"exceptionClass\": \"\", \"trace\": \"\"}}, \"*\")"
      ],
      "text/plain": [
       "<IPython.core.display.Javascript object>"
      ]
     },
     "metadata": {},
     "output_type": "display_data"
    },
    {
     "data": {
      "text/markdown": [
       "<span style=\"color:#33cc33\">Correct</span>"
      ],
      "text/plain": [
       "Correct"
      ]
     },
     "metadata": {},
     "output_type": "display_data"
    }
   ],
   "source": [
    "best_rating_per_price = reviews.groupby('price')['points'].max().sort_index()\n",
    "\n",
    "# Check your answer\n",
    "q2.check()"
   ]
  },
  {
   "cell_type": "code",
   "execution_count": 5,
   "id": "203792ab",
   "metadata": {
    "execution": {
     "iopub.execute_input": "2022-07-13T19:32:46.210728Z",
     "iopub.status.busy": "2022-07-13T19:32:46.210328Z",
     "iopub.status.idle": "2022-07-13T19:32:46.214285Z",
     "shell.execute_reply": "2022-07-13T19:32:46.213187Z"
    },
    "papermill": {
     "duration": 0.014746,
     "end_time": "2022-07-13T19:32:46.216228",
     "exception": false,
     "start_time": "2022-07-13T19:32:46.201482",
     "status": "completed"
    },
    "tags": []
   },
   "outputs": [],
   "source": [
    "#q2.hint()\n",
    "#q2.solution()"
   ]
  },
  {
   "cell_type": "markdown",
   "id": "e1d8c55c",
   "metadata": {
    "papermill": {
     "duration": 0.007164,
     "end_time": "2022-07-13T19:32:46.230670",
     "exception": false,
     "start_time": "2022-07-13T19:32:46.223506",
     "status": "completed"
    },
    "tags": []
   },
   "source": [
    "## 3.\n",
    "What are the minimum and maximum prices for each `variety` of wine? Create a `DataFrame` whose index is the `variety` category from the dataset and whose values are the `min` and `max` values thereof."
   ]
  },
  {
   "cell_type": "code",
   "execution_count": 6,
   "id": "42051d50",
   "metadata": {
    "execution": {
     "iopub.execute_input": "2022-07-13T19:32:46.247916Z",
     "iopub.status.busy": "2022-07-13T19:32:46.247158Z",
     "iopub.status.idle": "2022-07-13T19:32:46.277465Z",
     "shell.execute_reply": "2022-07-13T19:32:46.276362Z"
    },
    "papermill": {
     "duration": 0.041632,
     "end_time": "2022-07-13T19:32:46.279779",
     "exception": false,
     "start_time": "2022-07-13T19:32:46.238147",
     "status": "completed"
    },
    "tags": []
   },
   "outputs": [
    {
     "data": {
      "application/javascript": [
       "parent.postMessage({\"jupyterEvent\": \"custom.exercise_interaction\", \"data\": {\"outcomeType\": 1, \"valueTowardsCompletion\": 0.16666666666666666, \"interactionType\": 1, \"questionType\": 1, \"questionId\": \"3_PriceExtremes\", \"learnToolsVersion\": \"0.3.4\", \"failureMessage\": \"\", \"exceptionClass\": \"\", \"trace\": \"\"}}, \"*\")"
      ],
      "text/plain": [
       "<IPython.core.display.Javascript object>"
      ]
     },
     "metadata": {},
     "output_type": "display_data"
    },
    {
     "data": {
      "text/markdown": [
       "<span style=\"color:#33cc33\">Correct</span>"
      ],
      "text/plain": [
       "Correct"
      ]
     },
     "metadata": {},
     "output_type": "display_data"
    }
   ],
   "source": [
    "price_extremes = reviews.groupby('variety').price.agg([min, max])\n",
    "\n",
    "# Check your answer\n",
    "q3.check()"
   ]
  },
  {
   "cell_type": "code",
   "execution_count": 7,
   "id": "4df26dd4",
   "metadata": {
    "execution": {
     "iopub.execute_input": "2022-07-13T19:32:46.296913Z",
     "iopub.status.busy": "2022-07-13T19:32:46.296181Z",
     "iopub.status.idle": "2022-07-13T19:32:46.299970Z",
     "shell.execute_reply": "2022-07-13T19:32:46.299239Z"
    },
    "papermill": {
     "duration": 0.014525,
     "end_time": "2022-07-13T19:32:46.301878",
     "exception": false,
     "start_time": "2022-07-13T19:32:46.287353",
     "status": "completed"
    },
    "tags": []
   },
   "outputs": [],
   "source": [
    "#q3.hint()\n",
    "#q3.solution()"
   ]
  },
  {
   "cell_type": "markdown",
   "id": "fa908d2d",
   "metadata": {
    "papermill": {
     "duration": 0.007483,
     "end_time": "2022-07-13T19:32:46.317351",
     "exception": false,
     "start_time": "2022-07-13T19:32:46.309868",
     "status": "completed"
    },
    "tags": []
   },
   "source": [
    "## 4.\n",
    "What are the most expensive wine varieties? Create a variable `sorted_varieties` containing a copy of the dataframe from the previous question where varieties are sorted in descending order based on minimum price, then on maximum price (to break ties)."
   ]
  },
  {
   "cell_type": "code",
   "execution_count": 8,
   "id": "2df1be15",
   "metadata": {
    "execution": {
     "iopub.execute_input": "2022-07-13T19:32:46.334390Z",
     "iopub.status.busy": "2022-07-13T19:32:46.334040Z",
     "iopub.status.idle": "2022-07-13T19:32:46.342793Z",
     "shell.execute_reply": "2022-07-13T19:32:46.342073Z"
    },
    "papermill": {
     "duration": 0.019696,
     "end_time": "2022-07-13T19:32:46.344767",
     "exception": false,
     "start_time": "2022-07-13T19:32:46.325071",
     "status": "completed"
    },
    "tags": []
   },
   "outputs": [
    {
     "data": {
      "application/javascript": [
       "parent.postMessage({\"jupyterEvent\": \"custom.exercise_interaction\", \"data\": {\"outcomeType\": 1, \"valueTowardsCompletion\": 0.16666666666666666, \"interactionType\": 1, \"questionType\": 1, \"questionId\": \"4_SortedVarieties\", \"learnToolsVersion\": \"0.3.4\", \"failureMessage\": \"\", \"exceptionClass\": \"\", \"trace\": \"\"}}, \"*\")"
      ],
      "text/plain": [
       "<IPython.core.display.Javascript object>"
      ]
     },
     "metadata": {},
     "output_type": "display_data"
    },
    {
     "data": {
      "text/markdown": [
       "<span style=\"color:#33cc33\">Correct</span>"
      ],
      "text/plain": [
       "Correct"
      ]
     },
     "metadata": {},
     "output_type": "display_data"
    }
   ],
   "source": [
    "sorted_varieties = price_extremes.sort_values(by=['min','max'],ascending=False)\n",
    "\n",
    "# Check your answer\n",
    "q4.check()"
   ]
  },
  {
   "cell_type": "code",
   "execution_count": 9,
   "id": "1952dbc9",
   "metadata": {
    "execution": {
     "iopub.execute_input": "2022-07-13T19:32:46.363215Z",
     "iopub.status.busy": "2022-07-13T19:32:46.362633Z",
     "iopub.status.idle": "2022-07-13T19:32:46.366308Z",
     "shell.execute_reply": "2022-07-13T19:32:46.365280Z"
    },
    "papermill": {
     "duration": 0.015296,
     "end_time": "2022-07-13T19:32:46.368323",
     "exception": false,
     "start_time": "2022-07-13T19:32:46.353027",
     "status": "completed"
    },
    "tags": []
   },
   "outputs": [],
   "source": [
    "#q4.hint()\n",
    "#q4.solution()"
   ]
  },
  {
   "cell_type": "markdown",
   "id": "23494a2a",
   "metadata": {
    "papermill": {
     "duration": 0.007901,
     "end_time": "2022-07-13T19:32:46.384495",
     "exception": false,
     "start_time": "2022-07-13T19:32:46.376594",
     "status": "completed"
    },
    "tags": []
   },
   "source": [
    "## 5.\n",
    "Create a `Series` whose index is reviewers and whose values is the average review score given out by that reviewer. Hint: you will need the `taster_name` and `points` columns."
   ]
  },
  {
   "cell_type": "code",
   "execution_count": 10,
   "id": "cd10f374",
   "metadata": {
    "execution": {
     "iopub.execute_input": "2022-07-13T19:32:46.403265Z",
     "iopub.status.busy": "2022-07-13T19:32:46.402694Z",
     "iopub.status.idle": "2022-07-13T19:32:46.428141Z",
     "shell.execute_reply": "2022-07-13T19:32:46.427098Z"
    },
    "papermill": {
     "duration": 0.037397,
     "end_time": "2022-07-13T19:32:46.430285",
     "exception": false,
     "start_time": "2022-07-13T19:32:46.392888",
     "status": "completed"
    },
    "tags": []
   },
   "outputs": [
    {
     "data": {
      "application/javascript": [
       "parent.postMessage({\"jupyterEvent\": \"custom.exercise_interaction\", \"data\": {\"outcomeType\": 1, \"valueTowardsCompletion\": 0.16666666666666666, \"interactionType\": 1, \"questionType\": 1, \"questionId\": \"5_ReviewerMeanRatings\", \"learnToolsVersion\": \"0.3.4\", \"failureMessage\": \"\", \"exceptionClass\": \"\", \"trace\": \"\"}}, \"*\")"
      ],
      "text/plain": [
       "<IPython.core.display.Javascript object>"
      ]
     },
     "metadata": {},
     "output_type": "display_data"
    },
    {
     "data": {
      "text/markdown": [
       "<span style=\"color:#33cc33\">Correct</span>"
      ],
      "text/plain": [
       "Correct"
      ]
     },
     "metadata": {},
     "output_type": "display_data"
    }
   ],
   "source": [
    "reviewer_mean_ratings = reviewer_mean_ratings = reviews.groupby('taster_name').points.mean()\n",
    "\n",
    "# Check your answer\n",
    "q5.check()"
   ]
  },
  {
   "cell_type": "code",
   "execution_count": 11,
   "id": "ce30de3b",
   "metadata": {
    "execution": {
     "iopub.execute_input": "2022-07-13T19:32:46.448695Z",
     "iopub.status.busy": "2022-07-13T19:32:46.448317Z",
     "iopub.status.idle": "2022-07-13T19:32:46.452309Z",
     "shell.execute_reply": "2022-07-13T19:32:46.451294Z"
    },
    "papermill": {
     "duration": 0.016211,
     "end_time": "2022-07-13T19:32:46.454632",
     "exception": false,
     "start_time": "2022-07-13T19:32:46.438421",
     "status": "completed"
    },
    "tags": []
   },
   "outputs": [],
   "source": [
    "#q5.hint()\n",
    "#q5.solution()"
   ]
  },
  {
   "cell_type": "markdown",
   "id": "bcf35503",
   "metadata": {
    "papermill": {
     "duration": 0.007851,
     "end_time": "2022-07-13T19:32:46.470939",
     "exception": false,
     "start_time": "2022-07-13T19:32:46.463088",
     "status": "completed"
    },
    "tags": []
   },
   "source": [
    "Are there significant differences in the average scores assigned by the various reviewers? Run the cell below to use the `describe()` method to see a summary of the range of values."
   ]
  },
  {
   "cell_type": "code",
   "execution_count": 12,
   "id": "74658736",
   "metadata": {
    "execution": {
     "iopub.execute_input": "2022-07-13T19:32:46.488939Z",
     "iopub.status.busy": "2022-07-13T19:32:46.488320Z",
     "iopub.status.idle": "2022-07-13T19:32:46.499641Z",
     "shell.execute_reply": "2022-07-13T19:32:46.498925Z"
    },
    "papermill": {
     "duration": 0.022615,
     "end_time": "2022-07-13T19:32:46.501693",
     "exception": false,
     "start_time": "2022-07-13T19:32:46.479078",
     "status": "completed"
    },
    "tags": []
   },
   "outputs": [
    {
     "data": {
      "text/plain": [
       "count    19.000000\n",
       "mean     88.233026\n",
       "std       1.243610\n",
       "min      85.855422\n",
       "25%      87.323501\n",
       "50%      88.536235\n",
       "75%      88.975256\n",
       "max      90.562551\n",
       "Name: points, dtype: float64"
      ]
     },
     "execution_count": 12,
     "metadata": {},
     "output_type": "execute_result"
    }
   ],
   "source": [
    "reviewer_mean_ratings.describe()"
   ]
  },
  {
   "cell_type": "markdown",
   "id": "508338b9",
   "metadata": {
    "papermill": {
     "duration": 0.008067,
     "end_time": "2022-07-13T19:32:46.518301",
     "exception": false,
     "start_time": "2022-07-13T19:32:46.510234",
     "status": "completed"
    },
    "tags": []
   },
   "source": [
    "## 6.\n",
    "What combination of countries and varieties are most common? Create a `Series` whose index is a `MultiIndex`of `{country, variety}` pairs. For example, a pinot noir produced in the US should map to `{\"US\", \"Pinot Noir\"}`. Sort the values in the `Series` in descending order based on wine count."
   ]
  },
  {
   "cell_type": "code",
   "execution_count": 13,
   "id": "8a1f557a",
   "metadata": {
    "execution": {
     "iopub.execute_input": "2022-07-13T19:32:46.536937Z",
     "iopub.status.busy": "2022-07-13T19:32:46.536544Z",
     "iopub.status.idle": "2022-07-13T19:32:46.583468Z",
     "shell.execute_reply": "2022-07-13T19:32:46.582452Z"
    },
    "papermill": {
     "duration": 0.059132,
     "end_time": "2022-07-13T19:32:46.585758",
     "exception": false,
     "start_time": "2022-07-13T19:32:46.526626",
     "status": "completed"
    },
    "tags": []
   },
   "outputs": [
    {
     "data": {
      "application/javascript": [
       "parent.postMessage({\"jupyterEvent\": \"custom.exercise_interaction\", \"data\": {\"outcomeType\": 1, \"valueTowardsCompletion\": 0.16666666666666666, \"interactionType\": 1, \"questionType\": 1, \"questionId\": \"6_GroupbyCountryVariety\", \"learnToolsVersion\": \"0.3.4\", \"failureMessage\": \"\", \"exceptionClass\": \"\", \"trace\": \"\"}}, \"*\")"
      ],
      "text/plain": [
       "<IPython.core.display.Javascript object>"
      ]
     },
     "metadata": {},
     "output_type": "display_data"
    },
    {
     "data": {
      "text/markdown": [
       "<span style=\"color:#33cc33\">Correct</span>"
      ],
      "text/plain": [
       "Correct"
      ]
     },
     "metadata": {},
     "output_type": "display_data"
    }
   ],
   "source": [
    "country_variety_counts = reviews.groupby(['country', 'variety']).size().sort_values(ascending=False)\n",
    "# Check your answer\n",
    "q6.check()"
   ]
  },
  {
   "cell_type": "code",
   "execution_count": 14,
   "id": "431a0977",
   "metadata": {
    "execution": {
     "iopub.execute_input": "2022-07-13T19:32:46.605102Z",
     "iopub.status.busy": "2022-07-13T19:32:46.604693Z",
     "iopub.status.idle": "2022-07-13T19:32:46.609147Z",
     "shell.execute_reply": "2022-07-13T19:32:46.607946Z"
    },
    "papermill": {
     "duration": 0.016441,
     "end_time": "2022-07-13T19:32:46.611272",
     "exception": false,
     "start_time": "2022-07-13T19:32:46.594831",
     "status": "completed"
    },
    "tags": []
   },
   "outputs": [],
   "source": [
    "#q6.hint()\n",
    "#q6.solution()"
   ]
  },
  {
   "cell_type": "markdown",
   "id": "a8468e68",
   "metadata": {
    "papermill": {
     "duration": 0.008225,
     "end_time": "2022-07-13T19:32:46.628130",
     "exception": false,
     "start_time": "2022-07-13T19:32:46.619905",
     "status": "completed"
    },
    "tags": []
   },
   "source": [
    "# Keep going\n",
    "\n",
    "Move on to the [**data types and missing data**](https://www.kaggle.com/residentmario/data-types-and-missing-values)."
   ]
  },
  {
   "cell_type": "markdown",
   "id": "55eedd1a",
   "metadata": {
    "papermill": {
     "duration": 0.008141,
     "end_time": "2022-07-13T19:32:46.644987",
     "exception": false,
     "start_time": "2022-07-13T19:32:46.636846",
     "status": "completed"
    },
    "tags": []
   },
   "source": [
    "---\n",
    "\n",
    "\n",
    "\n",
    "\n",
    "*Have questions or comments? Visit the [course discussion forum](https://www.kaggle.com/learn/pandas/discussion) to chat with other learners.*"
   ]
  }
 ],
 "metadata": {
  "kernelspec": {
   "display_name": "Python 3",
   "language": "python",
   "name": "python3"
  },
  "language_info": {
   "codemirror_mode": {
    "name": "ipython",
    "version": 3
   },
   "file_extension": ".py",
   "mimetype": "text/x-python",
   "name": "python",
   "nbconvert_exporter": "python",
   "pygments_lexer": "ipython3",
   "version": "3.7.12"
  },
  "papermill": {
   "default_parameters": {},
   "duration": 14.152584,
   "end_time": "2022-07-13T19:32:47.375807",
   "environment_variables": {},
   "exception": null,
   "input_path": "__notebook__.ipynb",
   "output_path": "__notebook__.ipynb",
   "parameters": {},
   "start_time": "2022-07-13T19:32:33.223223",
   "version": "2.3.4"
  }
 },
 "nbformat": 4,
 "nbformat_minor": 5
}
