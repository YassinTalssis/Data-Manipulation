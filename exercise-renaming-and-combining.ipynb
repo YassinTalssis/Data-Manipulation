{
 "cells": [
  {
   "cell_type": "markdown",
   "id": "a7a9e5bf",
   "metadata": {
    "papermill": {
     "duration": 0.005428,
     "end_time": "2022-07-14T09:11:28.903982",
     "exception": false,
     "start_time": "2022-07-14T09:11:28.898554",
     "status": "completed"
    },
    "tags": []
   },
   "source": [
    "**This notebook is an exercise in the [Pandas](https://www.kaggle.com/learn/pandas) course.  You can reference the tutorial at [this link](https://www.kaggle.com/residentmario/renaming-and-combining).**\n",
    "\n",
    "---\n"
   ]
  },
  {
   "cell_type": "markdown",
   "id": "f702bdde",
   "metadata": {
    "papermill": {
     "duration": 0.004081,
     "end_time": "2022-07-14T09:11:28.912765",
     "exception": false,
     "start_time": "2022-07-14T09:11:28.908684",
     "status": "completed"
    },
    "tags": []
   },
   "source": [
    "# Introduction\n",
    "\n",
    "Run the following cell to load your data and some utility functions."
   ]
  },
  {
   "cell_type": "code",
   "execution_count": 1,
   "id": "08f2ad41",
   "metadata": {
    "execution": {
     "iopub.execute_input": "2022-07-14T09:11:28.923823Z",
     "iopub.status.busy": "2022-07-14T09:11:28.923114Z",
     "iopub.status.idle": "2022-07-14T09:11:32.945321Z",
     "shell.execute_reply": "2022-07-14T09:11:32.943591Z"
    },
    "papermill": {
     "duration": 4.031358,
     "end_time": "2022-07-14T09:11:32.948559",
     "exception": false,
     "start_time": "2022-07-14T09:11:28.917201",
     "status": "completed"
    },
    "tags": []
   },
   "outputs": [
    {
     "name": "stdout",
     "output_type": "stream",
     "text": [
      "Setup complete.\n"
     ]
    }
   ],
   "source": [
    "import pandas as pd\n",
    "\n",
    "reviews = pd.read_csv(\"../input/wine-reviews/winemag-data-130k-v2.csv\", index_col=0)\n",
    "\n",
    "from learntools.core import binder; binder.bind(globals())\n",
    "from learntools.pandas.renaming_and_combining import *\n",
    "print(\"Setup complete.\")"
   ]
  },
  {
   "cell_type": "markdown",
   "id": "7135aaed",
   "metadata": {
    "papermill": {
     "duration": 0.004249,
     "end_time": "2022-07-14T09:11:32.957808",
     "exception": false,
     "start_time": "2022-07-14T09:11:32.953559",
     "status": "completed"
    },
    "tags": []
   },
   "source": [
    "# Exercises\n",
    "\n",
    "View the first several lines of your data by running the cell below:"
   ]
  },
  {
   "cell_type": "code",
   "execution_count": 2,
   "id": "4550c0d2",
   "metadata": {
    "execution": {
     "iopub.execute_input": "2022-07-14T09:11:32.968246Z",
     "iopub.status.busy": "2022-07-14T09:11:32.967830Z",
     "iopub.status.idle": "2022-07-14T09:11:32.995609Z",
     "shell.execute_reply": "2022-07-14T09:11:32.994661Z"
    },
    "papermill": {
     "duration": 0.035394,
     "end_time": "2022-07-14T09:11:32.997663",
     "exception": false,
     "start_time": "2022-07-14T09:11:32.962269",
     "status": "completed"
    },
    "tags": []
   },
   "outputs": [
    {
     "data": {
      "text/html": [
       "<div>\n",
       "<style scoped>\n",
       "    .dataframe tbody tr th:only-of-type {\n",
       "        vertical-align: middle;\n",
       "    }\n",
       "\n",
       "    .dataframe tbody tr th {\n",
       "        vertical-align: top;\n",
       "    }\n",
       "\n",
       "    .dataframe thead th {\n",
       "        text-align: right;\n",
       "    }\n",
       "</style>\n",
       "<table border=\"1\" class=\"dataframe\">\n",
       "  <thead>\n",
       "    <tr style=\"text-align: right;\">\n",
       "      <th></th>\n",
       "      <th>country</th>\n",
       "      <th>description</th>\n",
       "      <th>designation</th>\n",
       "      <th>points</th>\n",
       "      <th>price</th>\n",
       "      <th>province</th>\n",
       "      <th>region_1</th>\n",
       "      <th>region_2</th>\n",
       "      <th>taster_name</th>\n",
       "      <th>taster_twitter_handle</th>\n",
       "      <th>title</th>\n",
       "      <th>variety</th>\n",
       "      <th>winery</th>\n",
       "    </tr>\n",
       "  </thead>\n",
       "  <tbody>\n",
       "    <tr>\n",
       "      <th>0</th>\n",
       "      <td>Italy</td>\n",
       "      <td>Aromas include tropical fruit, broom, brimston...</td>\n",
       "      <td>Vulkà Bianco</td>\n",
       "      <td>87</td>\n",
       "      <td>NaN</td>\n",
       "      <td>Sicily &amp; Sardinia</td>\n",
       "      <td>Etna</td>\n",
       "      <td>NaN</td>\n",
       "      <td>Kerin O’Keefe</td>\n",
       "      <td>@kerinokeefe</td>\n",
       "      <td>Nicosia 2013 Vulkà Bianco  (Etna)</td>\n",
       "      <td>White Blend</td>\n",
       "      <td>Nicosia</td>\n",
       "    </tr>\n",
       "    <tr>\n",
       "      <th>1</th>\n",
       "      <td>Portugal</td>\n",
       "      <td>This is ripe and fruity, a wine that is smooth...</td>\n",
       "      <td>Avidagos</td>\n",
       "      <td>87</td>\n",
       "      <td>15.0</td>\n",
       "      <td>Douro</td>\n",
       "      <td>NaN</td>\n",
       "      <td>NaN</td>\n",
       "      <td>Roger Voss</td>\n",
       "      <td>@vossroger</td>\n",
       "      <td>Quinta dos Avidagos 2011 Avidagos Red (Douro)</td>\n",
       "      <td>Portuguese Red</td>\n",
       "      <td>Quinta dos Avidagos</td>\n",
       "    </tr>\n",
       "    <tr>\n",
       "      <th>2</th>\n",
       "      <td>US</td>\n",
       "      <td>Tart and snappy, the flavors of lime flesh and...</td>\n",
       "      <td>NaN</td>\n",
       "      <td>87</td>\n",
       "      <td>14.0</td>\n",
       "      <td>Oregon</td>\n",
       "      <td>Willamette Valley</td>\n",
       "      <td>Willamette Valley</td>\n",
       "      <td>Paul Gregutt</td>\n",
       "      <td>@paulgwine</td>\n",
       "      <td>Rainstorm 2013 Pinot Gris (Willamette Valley)</td>\n",
       "      <td>Pinot Gris</td>\n",
       "      <td>Rainstorm</td>\n",
       "    </tr>\n",
       "    <tr>\n",
       "      <th>3</th>\n",
       "      <td>US</td>\n",
       "      <td>Pineapple rind, lemon pith and orange blossom ...</td>\n",
       "      <td>Reserve Late Harvest</td>\n",
       "      <td>87</td>\n",
       "      <td>13.0</td>\n",
       "      <td>Michigan</td>\n",
       "      <td>Lake Michigan Shore</td>\n",
       "      <td>NaN</td>\n",
       "      <td>Alexander Peartree</td>\n",
       "      <td>NaN</td>\n",
       "      <td>St. Julian 2013 Reserve Late Harvest Riesling ...</td>\n",
       "      <td>Riesling</td>\n",
       "      <td>St. Julian</td>\n",
       "    </tr>\n",
       "    <tr>\n",
       "      <th>4</th>\n",
       "      <td>US</td>\n",
       "      <td>Much like the regular bottling from 2012, this...</td>\n",
       "      <td>Vintner's Reserve Wild Child Block</td>\n",
       "      <td>87</td>\n",
       "      <td>65.0</td>\n",
       "      <td>Oregon</td>\n",
       "      <td>Willamette Valley</td>\n",
       "      <td>Willamette Valley</td>\n",
       "      <td>Paul Gregutt</td>\n",
       "      <td>@paulgwine</td>\n",
       "      <td>Sweet Cheeks 2012 Vintner's Reserve Wild Child...</td>\n",
       "      <td>Pinot Noir</td>\n",
       "      <td>Sweet Cheeks</td>\n",
       "    </tr>\n",
       "  </tbody>\n",
       "</table>\n",
       "</div>"
      ],
      "text/plain": [
       "    country                                        description  \\\n",
       "0     Italy  Aromas include tropical fruit, broom, brimston...   \n",
       "1  Portugal  This is ripe and fruity, a wine that is smooth...   \n",
       "2        US  Tart and snappy, the flavors of lime flesh and...   \n",
       "3        US  Pineapple rind, lemon pith and orange blossom ...   \n",
       "4        US  Much like the regular bottling from 2012, this...   \n",
       "\n",
       "                          designation  points  price           province  \\\n",
       "0                        Vulkà Bianco      87    NaN  Sicily & Sardinia   \n",
       "1                            Avidagos      87   15.0              Douro   \n",
       "2                                 NaN      87   14.0             Oregon   \n",
       "3                Reserve Late Harvest      87   13.0           Michigan   \n",
       "4  Vintner's Reserve Wild Child Block      87   65.0             Oregon   \n",
       "\n",
       "              region_1           region_2         taster_name  \\\n",
       "0                 Etna                NaN       Kerin O’Keefe   \n",
       "1                  NaN                NaN          Roger Voss   \n",
       "2    Willamette Valley  Willamette Valley        Paul Gregutt   \n",
       "3  Lake Michigan Shore                NaN  Alexander Peartree   \n",
       "4    Willamette Valley  Willamette Valley        Paul Gregutt   \n",
       "\n",
       "  taster_twitter_handle                                              title  \\\n",
       "0          @kerinokeefe                  Nicosia 2013 Vulkà Bianco  (Etna)   \n",
       "1            @vossroger      Quinta dos Avidagos 2011 Avidagos Red (Douro)   \n",
       "2           @paulgwine       Rainstorm 2013 Pinot Gris (Willamette Valley)   \n",
       "3                   NaN  St. Julian 2013 Reserve Late Harvest Riesling ...   \n",
       "4           @paulgwine   Sweet Cheeks 2012 Vintner's Reserve Wild Child...   \n",
       "\n",
       "          variety               winery  \n",
       "0     White Blend              Nicosia  \n",
       "1  Portuguese Red  Quinta dos Avidagos  \n",
       "2      Pinot Gris            Rainstorm  \n",
       "3        Riesling           St. Julian  \n",
       "4      Pinot Noir         Sweet Cheeks  "
      ]
     },
     "execution_count": 2,
     "metadata": {},
     "output_type": "execute_result"
    }
   ],
   "source": [
    "reviews.head()"
   ]
  },
  {
   "cell_type": "markdown",
   "id": "6c03f685",
   "metadata": {
    "papermill": {
     "duration": 0.004543,
     "end_time": "2022-07-14T09:11:33.007156",
     "exception": false,
     "start_time": "2022-07-14T09:11:33.002613",
     "status": "completed"
    },
    "tags": []
   },
   "source": [
    "## 1.\n",
    "`region_1` and `region_2` are pretty uninformative names for locale columns in the dataset. Create a copy of `reviews` with these columns renamed to `region` and `locale`, respectively."
   ]
  },
  {
   "cell_type": "code",
   "execution_count": 3,
   "id": "5a5d5633",
   "metadata": {
    "execution": {
     "iopub.execute_input": "2022-07-14T09:11:33.019883Z",
     "iopub.status.busy": "2022-07-14T09:11:33.018728Z",
     "iopub.status.idle": "2022-07-14T09:11:33.056617Z",
     "shell.execute_reply": "2022-07-14T09:11:33.055462Z"
    },
    "papermill": {
     "duration": 0.046583,
     "end_time": "2022-07-14T09:11:33.059137",
     "exception": false,
     "start_time": "2022-07-14T09:11:33.012554",
     "status": "completed"
    },
    "tags": []
   },
   "outputs": [
    {
     "data": {
      "application/javascript": [
       "parent.postMessage({\"jupyterEvent\": \"custom.exercise_interaction\", \"data\": {\"outcomeType\": 1, \"valueTowardsCompletion\": 0.25, \"interactionType\": 1, \"questionType\": 1, \"questionId\": \"1_RenameCols\", \"learnToolsVersion\": \"0.3.4\", \"failureMessage\": \"\", \"exceptionClass\": \"\", \"trace\": \"\"}}, \"*\")"
      ],
      "text/plain": [
       "<IPython.core.display.Javascript object>"
      ]
     },
     "metadata": {},
     "output_type": "display_data"
    },
    {
     "data": {
      "text/markdown": [
       "<span style=\"color:#33cc33\">Correct</span>"
      ],
      "text/plain": [
       "Correct"
      ]
     },
     "metadata": {},
     "output_type": "display_data"
    }
   ],
   "source": [
    "# Your code here\n",
    "renamed = reviews.rename(columns={\"region_1\":\"region\",\"region_2\":\"locale\"})\n",
    "\n",
    "# Check your answer\n",
    "q1.check()"
   ]
  },
  {
   "cell_type": "code",
   "execution_count": 4,
   "id": "5ebc8ed1",
   "metadata": {
    "execution": {
     "iopub.execute_input": "2022-07-14T09:11:33.072271Z",
     "iopub.status.busy": "2022-07-14T09:11:33.070824Z",
     "iopub.status.idle": "2022-07-14T09:11:33.076531Z",
     "shell.execute_reply": "2022-07-14T09:11:33.075415Z"
    },
    "papermill": {
     "duration": 0.014649,
     "end_time": "2022-07-14T09:11:33.079017",
     "exception": false,
     "start_time": "2022-07-14T09:11:33.064368",
     "status": "completed"
    },
    "tags": []
   },
   "outputs": [],
   "source": [
    "#q1.hint()\n",
    "#q1.solution()"
   ]
  },
  {
   "cell_type": "markdown",
   "id": "cf569ba7",
   "metadata": {
    "papermill": {
     "duration": 0.004848,
     "end_time": "2022-07-14T09:11:33.088935",
     "exception": false,
     "start_time": "2022-07-14T09:11:33.084087",
     "status": "completed"
    },
    "tags": []
   },
   "source": [
    "## 2.\n",
    "Set the index name in the dataset to `wines`."
   ]
  },
  {
   "cell_type": "code",
   "execution_count": 5,
   "id": "cc210e5d",
   "metadata": {
    "execution": {
     "iopub.execute_input": "2022-07-14T09:11:33.101662Z",
     "iopub.status.busy": "2022-07-14T09:11:33.101286Z",
     "iopub.status.idle": "2022-07-14T09:11:33.135823Z",
     "shell.execute_reply": "2022-07-14T09:11:33.134577Z"
    },
    "papermill": {
     "duration": 0.043549,
     "end_time": "2022-07-14T09:11:33.137947",
     "exception": false,
     "start_time": "2022-07-14T09:11:33.094398",
     "status": "completed"
    },
    "tags": []
   },
   "outputs": [
    {
     "data": {
      "application/javascript": [
       "parent.postMessage({\"jupyterEvent\": \"custom.exercise_interaction\", \"data\": {\"outcomeType\": 1, \"valueTowardsCompletion\": 0.25, \"interactionType\": 1, \"questionType\": 1, \"questionId\": \"2_RenameIndex\", \"learnToolsVersion\": \"0.3.4\", \"failureMessage\": \"\", \"exceptionClass\": \"\", \"trace\": \"\"}}, \"*\")"
      ],
      "text/plain": [
       "<IPython.core.display.Javascript object>"
      ]
     },
     "metadata": {},
     "output_type": "display_data"
    },
    {
     "data": {
      "text/markdown": [
       "<span style=\"color:#33cc33\">Correct</span>"
      ],
      "text/plain": [
       "Correct"
      ]
     },
     "metadata": {},
     "output_type": "display_data"
    }
   ],
   "source": [
    "reindexed = reviews.rename_axis(\"wines\",axis=\"rows\")\n",
    "\n",
    "# Check your answer\n",
    "q2.check()"
   ]
  },
  {
   "cell_type": "code",
   "execution_count": 6,
   "id": "3ed75990",
   "metadata": {
    "execution": {
     "iopub.execute_input": "2022-07-14T09:11:33.150941Z",
     "iopub.status.busy": "2022-07-14T09:11:33.149926Z",
     "iopub.status.idle": "2022-07-14T09:11:33.157313Z",
     "shell.execute_reply": "2022-07-14T09:11:33.156427Z"
    },
    "papermill": {
     "duration": 0.016058,
     "end_time": "2022-07-14T09:11:33.159364",
     "exception": false,
     "start_time": "2022-07-14T09:11:33.143306",
     "status": "completed"
    },
    "tags": []
   },
   "outputs": [
    {
     "data": {
      "application/javascript": [
       "parent.postMessage({\"jupyterEvent\": \"custom.exercise_interaction\", \"data\": {\"interactionType\": 2, \"questionType\": 1, \"questionId\": \"2_RenameIndex\", \"learnToolsVersion\": \"0.3.4\", \"valueTowardsCompletion\": 0.0, \"failureMessage\": \"\", \"exceptionClass\": \"\", \"trace\": \"\", \"outcomeType\": 4}}, \"*\")"
      ],
      "text/plain": [
       "<IPython.core.display.Javascript object>"
      ]
     },
     "metadata": {},
     "output_type": "display_data"
    },
    {
     "data": {
      "text/markdown": [
       "<span style=\"color:#3366cc\">Hint:</span> Use the `rename_axis()` method."
      ],
      "text/plain": [
       "Hint: Use the `rename_axis()` method."
      ]
     },
     "metadata": {},
     "output_type": "display_data"
    }
   ],
   "source": [
    "q2.hint()\n",
    "#q2.solution()"
   ]
  },
  {
   "cell_type": "raw",
   "id": "501ad858",
   "metadata": {
    "papermill": {
     "duration": 0.005094,
     "end_time": "2022-07-14T09:11:33.170015",
     "exception": false,
     "start_time": "2022-07-14T09:11:33.164921",
     "status": "completed"
    },
    "tags": []
   },
   "source": [
    "## 3.\n",
    "The [Things on Reddit](https://www.kaggle.com/residentmario/things-on-reddit/data) dataset includes product links from a selection of top-ranked forums (\"subreddits\") on reddit.com. Run the cell below to load a dataframe of products mentioned on the */r/gaming* subreddit and another dataframe for products mentioned on the *r//movies* subreddit."
   ]
  },
  {
   "cell_type": "code",
   "execution_count": 7,
   "id": "5919b8d3",
   "metadata": {
    "execution": {
     "iopub.execute_input": "2022-07-14T09:11:33.182812Z",
     "iopub.status.busy": "2022-07-14T09:11:33.182144Z",
     "iopub.status.idle": "2022-07-14T09:11:33.197540Z",
     "shell.execute_reply": "2022-07-14T09:11:33.196611Z"
    },
    "papermill": {
     "duration": 0.024595,
     "end_time": "2022-07-14T09:11:33.199990",
     "exception": false,
     "start_time": "2022-07-14T09:11:33.175395",
     "status": "completed"
    },
    "tags": []
   },
   "outputs": [],
   "source": [
    "gaming_products = pd.read_csv(\"../input/things-on-reddit/top-things/top-things/reddits/g/gaming.csv\")\n",
    "gaming_products['subreddit'] = \"r/gaming\"\n",
    "movie_products = pd.read_csv(\"../input/things-on-reddit/top-things/top-things/reddits/m/movies.csv\")\n",
    "movie_products['subreddit'] = \"r/movies\""
   ]
  },
  {
   "cell_type": "markdown",
   "id": "2f6ebead",
   "metadata": {
    "papermill": {
     "duration": 0.005069,
     "end_time": "2022-07-14T09:11:33.210470",
     "exception": false,
     "start_time": "2022-07-14T09:11:33.205401",
     "status": "completed"
    },
    "tags": []
   },
   "source": [
    "Create a `DataFrame` of products mentioned on *either* subreddit."
   ]
  },
  {
   "cell_type": "code",
   "execution_count": 8,
   "id": "1a420968",
   "metadata": {
    "execution": {
     "iopub.execute_input": "2022-07-14T09:11:33.223166Z",
     "iopub.status.busy": "2022-07-14T09:11:33.222158Z",
     "iopub.status.idle": "2022-07-14T09:11:33.233930Z",
     "shell.execute_reply": "2022-07-14T09:11:33.233195Z"
    },
    "papermill": {
     "duration": 0.020221,
     "end_time": "2022-07-14T09:11:33.235883",
     "exception": false,
     "start_time": "2022-07-14T09:11:33.215662",
     "status": "completed"
    },
    "tags": []
   },
   "outputs": [
    {
     "data": {
      "application/javascript": [
       "parent.postMessage({\"jupyterEvent\": \"custom.exercise_interaction\", \"data\": {\"outcomeType\": 1, \"valueTowardsCompletion\": 0.25, \"interactionType\": 1, \"questionType\": 2, \"questionId\": \"3_ConcatReddit\", \"learnToolsVersion\": \"0.3.4\", \"failureMessage\": \"\", \"exceptionClass\": \"\", \"trace\": \"\"}}, \"*\")"
      ],
      "text/plain": [
       "<IPython.core.display.Javascript object>"
      ]
     },
     "metadata": {},
     "output_type": "display_data"
    },
    {
     "data": {
      "text/markdown": [
       "<span style=\"color:#33cc33\">Correct</span>"
      ],
      "text/plain": [
       "Correct"
      ]
     },
     "metadata": {},
     "output_type": "display_data"
    }
   ],
   "source": [
    "combined_products = pd.concat([movie_products,gaming_products])\n",
    "\n",
    "# Check your answer\n",
    "q3.check()"
   ]
  },
  {
   "cell_type": "code",
   "execution_count": 9,
   "id": "6bae64f0",
   "metadata": {
    "execution": {
     "iopub.execute_input": "2022-07-14T09:11:33.248934Z",
     "iopub.status.busy": "2022-07-14T09:11:33.248248Z",
     "iopub.status.idle": "2022-07-14T09:11:33.251956Z",
     "shell.execute_reply": "2022-07-14T09:11:33.251155Z"
    },
    "papermill": {
     "duration": 0.012667,
     "end_time": "2022-07-14T09:11:33.254111",
     "exception": false,
     "start_time": "2022-07-14T09:11:33.241444",
     "status": "completed"
    },
    "tags": []
   },
   "outputs": [],
   "source": [
    "#q3.hint()\n",
    "#q3.solution()"
   ]
  },
  {
   "cell_type": "markdown",
   "id": "7e84f745",
   "metadata": {
    "papermill": {
     "duration": 0.005162,
     "end_time": "2022-07-14T09:11:33.265451",
     "exception": false,
     "start_time": "2022-07-14T09:11:33.260289",
     "status": "completed"
    },
    "tags": []
   },
   "source": [
    "## 4.\n",
    "The [Powerlifting Database](https://www.kaggle.com/open-powerlifting/powerlifting-database) dataset on Kaggle includes one CSV table for powerlifting meets and a separate one for powerlifting competitors. Run the cell below to load these datasets into dataframes:"
   ]
  },
  {
   "cell_type": "code",
   "execution_count": 10,
   "id": "57aef72a",
   "metadata": {
    "execution": {
     "iopub.execute_input": "2022-07-14T09:11:33.278168Z",
     "iopub.status.busy": "2022-07-14T09:11:33.277743Z",
     "iopub.status.idle": "2022-07-14T09:11:34.062483Z",
     "shell.execute_reply": "2022-07-14T09:11:34.061362Z"
    },
    "papermill": {
     "duration": 0.79432,
     "end_time": "2022-07-14T09:11:34.065239",
     "exception": false,
     "start_time": "2022-07-14T09:11:33.270919",
     "status": "completed"
    },
    "tags": []
   },
   "outputs": [],
   "source": [
    "powerlifting_meets = pd.read_csv(\"../input/powerlifting-database/meets.csv\")\n",
    "powerlifting_competitors = pd.read_csv(\"../input/powerlifting-database/openpowerlifting.csv\")"
   ]
  },
  {
   "cell_type": "markdown",
   "id": "98c0a9f5",
   "metadata": {
    "papermill": {
     "duration": 0.005785,
     "end_time": "2022-07-14T09:11:34.077694",
     "exception": false,
     "start_time": "2022-07-14T09:11:34.071909",
     "status": "completed"
    },
    "tags": []
   },
   "source": [
    "Both tables include references to a `MeetID`, a unique key for each meet (competition) included in the database. Using this, generate a dataset combining the two tables into one."
   ]
  },
  {
   "cell_type": "code",
   "execution_count": 11,
   "id": "23adfc4f",
   "metadata": {
    "execution": {
     "iopub.execute_input": "2022-07-14T09:11:34.091198Z",
     "iopub.status.busy": "2022-07-14T09:11:34.090518Z",
     "iopub.status.idle": "2022-07-14T09:11:34.901169Z",
     "shell.execute_reply": "2022-07-14T09:11:34.899496Z"
    },
    "papermill": {
     "duration": 0.82041,
     "end_time": "2022-07-14T09:11:34.903786",
     "exception": false,
     "start_time": "2022-07-14T09:11:34.083376",
     "status": "completed"
    },
    "tags": []
   },
   "outputs": [
    {
     "data": {
      "application/javascript": [
       "parent.postMessage({\"jupyterEvent\": \"custom.exercise_interaction\", \"data\": {\"outcomeType\": 1, \"valueTowardsCompletion\": 0.25, \"interactionType\": 1, \"questionType\": 2, \"questionId\": \"4_JoinLifting\", \"learnToolsVersion\": \"0.3.4\", \"failureMessage\": \"\", \"exceptionClass\": \"\", \"trace\": \"\"}}, \"*\")"
      ],
      "text/plain": [
       "<IPython.core.display.Javascript object>"
      ]
     },
     "metadata": {},
     "output_type": "display_data"
    },
    {
     "data": {
      "text/markdown": [
       "<span style=\"color:#33cc33\">Correct</span>"
      ],
      "text/plain": [
       "Correct"
      ]
     },
     "metadata": {},
     "output_type": "display_data"
    }
   ],
   "source": [
    "powerlifting_combined =  powerlifting_meets.set_index(\"MeetID\").join(powerlifting_competitors.set_index(\"MeetID\"))\n",
    "\n",
    "# Check your answer\n",
    "q4.check()"
   ]
  },
  {
   "cell_type": "code",
   "execution_count": 12,
   "id": "39f0c4a1",
   "metadata": {
    "execution": {
     "iopub.execute_input": "2022-07-14T09:11:34.918300Z",
     "iopub.status.busy": "2022-07-14T09:11:34.917878Z",
     "iopub.status.idle": "2022-07-14T09:11:34.932361Z",
     "shell.execute_reply": "2022-07-14T09:11:34.931138Z"
    },
    "papermill": {
     "duration": 0.025475,
     "end_time": "2022-07-14T09:11:34.935108",
     "exception": false,
     "start_time": "2022-07-14T09:11:34.909633",
     "status": "completed"
    },
    "tags": []
   },
   "outputs": [
    {
     "data": {
      "application/javascript": [
       "parent.postMessage({\"jupyterEvent\": \"custom.exercise_interaction\", \"data\": {\"interactionType\": 2, \"questionType\": 2, \"questionId\": \"4_JoinLifting\", \"learnToolsVersion\": \"0.3.4\", \"valueTowardsCompletion\": 0.0, \"failureMessage\": \"\", \"exceptionClass\": \"\", \"trace\": \"\", \"outcomeType\": 4}}, \"*\")"
      ],
      "text/plain": [
       "<IPython.core.display.Javascript object>"
      ]
     },
     "metadata": {},
     "output_type": "display_data"
    },
    {
     "data": {
      "text/markdown": [
       "<span style=\"color:#3366cc\">Hint:</span> Use `pd.Dataframe.join()`."
      ],
      "text/plain": [
       "Hint: Use `pd.Dataframe.join()`."
      ]
     },
     "metadata": {},
     "output_type": "display_data"
    },
    {
     "data": {
      "application/javascript": [
       "parent.postMessage({\"jupyterEvent\": \"custom.exercise_interaction\", \"data\": {\"interactionType\": 3, \"questionType\": 2, \"questionId\": \"4_JoinLifting\", \"learnToolsVersion\": \"0.3.4\", \"valueTowardsCompletion\": 0.0, \"failureMessage\": \"\", \"exceptionClass\": \"\", \"trace\": \"\", \"outcomeType\": 4}}, \"*\")"
      ],
      "text/plain": [
       "<IPython.core.display.Javascript object>"
      ]
     },
     "metadata": {},
     "output_type": "display_data"
    },
    {
     "data": {
      "text/markdown": [
       "<span style=\"color:#33cc99\">Solution:</span> \n",
       "```python\n",
       "powerlifting_combined = powerlifting_meets.set_index(\"MeetID\").join(powerlifting_competitors.set_index(\"MeetID\"))\n",
       "```"
      ],
      "text/plain": [
       "Solution: \n",
       "```python\n",
       "powerlifting_combined = powerlifting_meets.set_index(\"MeetID\").join(powerlifting_competitors.set_index(\"MeetID\"))\n",
       "```"
      ]
     },
     "metadata": {},
     "output_type": "display_data"
    }
   ],
   "source": [
    "q4.hint()\n",
    "q4.solution()"
   ]
  },
  {
   "cell_type": "markdown",
   "id": "5a5daa5a",
   "metadata": {
    "papermill": {
     "duration": 0.006021,
     "end_time": "2022-07-14T09:11:34.947447",
     "exception": false,
     "start_time": "2022-07-14T09:11:34.941426",
     "status": "completed"
    },
    "tags": []
   },
   "source": [
    "# Congratulations!\n",
    "\n",
    "You've finished the Pandas micro-course.  Many data scientists feel efficiency with Pandas is the most useful and practical skill they have, because it allows you to progress quickly in any project you have.\n",
    "\n",
    "If you'd like to apply your new skills to examining geospatial data, you're encouraged to check out our **[Geospatial Analysis](https://www.kaggle.com/learn/geospatial-analysis)** micro-course.\n",
    "\n",
    "You can also take advantage of your Pandas skills by entering a **[Kaggle Competition](https://www.kaggle.com/competitions)** or by answering a question you find interesting using **[Kaggle Datasets](https://www.kaggle.com/datasets)**."
   ]
  },
  {
   "cell_type": "markdown",
   "id": "df8dd5d6",
   "metadata": {
    "papermill": {
     "duration": 0.005998,
     "end_time": "2022-07-14T09:11:34.960349",
     "exception": false,
     "start_time": "2022-07-14T09:11:34.954351",
     "status": "completed"
    },
    "tags": []
   },
   "source": [
    "---\n",
    "\n",
    "\n",
    "\n",
    "\n",
    "*Have questions or comments? Visit the [course discussion forum](https://www.kaggle.com/learn/pandas/discussion) to chat with other learners.*"
   ]
  }
 ],
 "metadata": {
  "kernelspec": {
   "display_name": "Python 3",
   "language": "python",
   "name": "python3"
  },
  "language_info": {
   "codemirror_mode": {
    "name": "ipython",
    "version": 3
   },
   "file_extension": ".py",
   "mimetype": "text/x-python",
   "name": "python",
   "nbconvert_exporter": "python",
   "pygments_lexer": "ipython3",
   "version": "3.7.12"
  },
  "papermill": {
   "default_parameters": {},
   "duration": 16.658861,
   "end_time": "2022-07-14T09:11:35.689630",
   "environment_variables": {},
   "exception": null,
   "input_path": "__notebook__.ipynb",
   "output_path": "__notebook__.ipynb",
   "parameters": {},
   "start_time": "2022-07-14T09:11:19.030769",
   "version": "2.3.4"
  }
 },
 "nbformat": 4,
 "nbformat_minor": 5
}
