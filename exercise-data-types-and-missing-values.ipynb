{
 "cells": [
  {
   "cell_type": "markdown",
   "id": "656260d5",
   "metadata": {
    "papermill": {
     "duration": 0.005947,
     "end_time": "2022-07-13T20:11:23.727988",
     "exception": false,
     "start_time": "2022-07-13T20:11:23.722041",
     "status": "completed"
    },
    "tags": []
   },
   "source": [
    "**This notebook is an exercise in the [Pandas](https://www.kaggle.com/learn/pandas) course.  You can reference the tutorial at [this link](https://www.kaggle.com/residentmario/data-types-and-missing-values).**\n",
    "\n",
    "---\n"
   ]
  },
  {
   "cell_type": "markdown",
   "id": "8b79e3f4",
   "metadata": {
    "papermill": {
     "duration": 0.004696,
     "end_time": "2022-07-13T20:11:23.737900",
     "exception": false,
     "start_time": "2022-07-13T20:11:23.733204",
     "status": "completed"
    },
    "tags": []
   },
   "source": [
    "# Introduction\n",
    "\n",
    "Run the following cell to load your data and some utility functions."
   ]
  },
  {
   "cell_type": "code",
   "execution_count": 1,
   "id": "28dc3495",
   "metadata": {
    "execution": {
     "iopub.execute_input": "2022-07-13T20:11:23.751312Z",
     "iopub.status.busy": "2022-07-13T20:11:23.750644Z",
     "iopub.status.idle": "2022-07-13T20:11:26.696413Z",
     "shell.execute_reply": "2022-07-13T20:11:26.695156Z"
    },
    "papermill": {
     "duration": 2.956711,
     "end_time": "2022-07-13T20:11:26.699942",
     "exception": false,
     "start_time": "2022-07-13T20:11:23.743231",
     "status": "completed"
    },
    "tags": []
   },
   "outputs": [
    {
     "name": "stdout",
     "output_type": "stream",
     "text": [
      "Setup complete.\n"
     ]
    }
   ],
   "source": [
    "import pandas as pd\n",
    "\n",
    "reviews = pd.read_csv(\"../input/wine-reviews/winemag-data-130k-v2.csv\", index_col=0)\n",
    "\n",
    "from learntools.core import binder; binder.bind(globals())\n",
    "from learntools.pandas.data_types_and_missing_data import *\n",
    "print(\"Setup complete.\")"
   ]
  },
  {
   "cell_type": "markdown",
   "id": "991ceabb",
   "metadata": {
    "papermill": {
     "duration": 0.004853,
     "end_time": "2022-07-13T20:11:26.710278",
     "exception": false,
     "start_time": "2022-07-13T20:11:26.705425",
     "status": "completed"
    },
    "tags": []
   },
   "source": [
    "# Exercises"
   ]
  },
  {
   "cell_type": "markdown",
   "id": "ecaaec7a",
   "metadata": {
    "papermill": {
     "duration": 0.005421,
     "end_time": "2022-07-13T20:11:26.720976",
     "exception": false,
     "start_time": "2022-07-13T20:11:26.715555",
     "status": "completed"
    },
    "tags": []
   },
   "source": [
    "## 1. \n",
    "What is the data type of the `points` column in the dataset?"
   ]
  },
  {
   "cell_type": "code",
   "execution_count": 2,
   "id": "6364cb48",
   "metadata": {
    "execution": {
     "iopub.execute_input": "2022-07-13T20:11:26.734397Z",
     "iopub.status.busy": "2022-07-13T20:11:26.733486Z",
     "iopub.status.idle": "2022-07-13T20:11:26.745503Z",
     "shell.execute_reply": "2022-07-13T20:11:26.744334Z"
    },
    "papermill": {
     "duration": 0.021076,
     "end_time": "2022-07-13T20:11:26.747763",
     "exception": false,
     "start_time": "2022-07-13T20:11:26.726687",
     "status": "completed"
    },
    "tags": []
   },
   "outputs": [
    {
     "data": {
      "application/javascript": [
       "parent.postMessage({\"jupyterEvent\": \"custom.exercise_interaction\", \"data\": {\"outcomeType\": 1, \"valueTowardsCompletion\": 0.25, \"interactionType\": 1, \"questionType\": 1, \"questionId\": \"1_PointsDtype\", \"learnToolsVersion\": \"0.3.4\", \"failureMessage\": \"\", \"exceptionClass\": \"\", \"trace\": \"\"}}, \"*\")"
      ],
      "text/plain": [
       "<IPython.core.display.Javascript object>"
      ]
     },
     "metadata": {},
     "output_type": "display_data"
    },
    {
     "data": {
      "text/markdown": [
       "<span style=\"color:#33cc33\">Correct</span>"
      ],
      "text/plain": [
       "Correct"
      ]
     },
     "metadata": {},
     "output_type": "display_data"
    }
   ],
   "source": [
    "# Your code here\n",
    "dtype = reviews.points.dtype\n",
    "\n",
    "# Check your answer\n",
    "q1.check()"
   ]
  },
  {
   "cell_type": "code",
   "execution_count": 3,
   "id": "d077f572",
   "metadata": {
    "execution": {
     "iopub.execute_input": "2022-07-13T20:11:26.760973Z",
     "iopub.status.busy": "2022-07-13T20:11:26.759800Z",
     "iopub.status.idle": "2022-07-13T20:11:26.765035Z",
     "shell.execute_reply": "2022-07-13T20:11:26.763941Z"
    },
    "papermill": {
     "duration": 0.01415,
     "end_time": "2022-07-13T20:11:26.767279",
     "exception": false,
     "start_time": "2022-07-13T20:11:26.753129",
     "status": "completed"
    },
    "tags": []
   },
   "outputs": [],
   "source": [
    "#q1.hint()\n",
    "#q1.solution()"
   ]
  },
  {
   "cell_type": "markdown",
   "id": "311ce9cb",
   "metadata": {
    "papermill": {
     "duration": 0.004994,
     "end_time": "2022-07-13T20:11:26.777715",
     "exception": false,
     "start_time": "2022-07-13T20:11:26.772721",
     "status": "completed"
    },
    "tags": []
   },
   "source": [
    "## 2. \n",
    "Create a Series from entries in the `points` column, but convert the entries to strings. Hint: strings are `str` in native Python."
   ]
  },
  {
   "cell_type": "code",
   "execution_count": 4,
   "id": "eb753d2c",
   "metadata": {
    "execution": {
     "iopub.execute_input": "2022-07-13T20:11:26.790713Z",
     "iopub.status.busy": "2022-07-13T20:11:26.789963Z",
     "iopub.status.idle": "2022-07-13T20:11:26.929857Z",
     "shell.execute_reply": "2022-07-13T20:11:26.928670Z"
    },
    "papermill": {
     "duration": 0.149016,
     "end_time": "2022-07-13T20:11:26.932217",
     "exception": false,
     "start_time": "2022-07-13T20:11:26.783201",
     "status": "completed"
    },
    "tags": []
   },
   "outputs": [
    {
     "data": {
      "application/javascript": [
       "parent.postMessage({\"jupyterEvent\": \"custom.exercise_interaction\", \"data\": {\"outcomeType\": 1, \"valueTowardsCompletion\": 0.25, \"interactionType\": 1, \"questionType\": 1, \"questionId\": \"2_StrPoints\", \"learnToolsVersion\": \"0.3.4\", \"failureMessage\": \"\", \"exceptionClass\": \"\", \"trace\": \"\"}}, \"*\")"
      ],
      "text/plain": [
       "<IPython.core.display.Javascript object>"
      ]
     },
     "metadata": {},
     "output_type": "display_data"
    },
    {
     "data": {
      "text/markdown": [
       "<span style=\"color:#33cc33\">Correct</span>"
      ],
      "text/plain": [
       "Correct"
      ]
     },
     "metadata": {},
     "output_type": "display_data"
    }
   ],
   "source": [
    "point_strings = reviews.points.astype(str)\n",
    "\n",
    "# Check your answer\n",
    "q2.check()"
   ]
  },
  {
   "cell_type": "code",
   "execution_count": 5,
   "id": "e2c59e3c",
   "metadata": {
    "execution": {
     "iopub.execute_input": "2022-07-13T20:11:26.945801Z",
     "iopub.status.busy": "2022-07-13T20:11:26.944710Z",
     "iopub.status.idle": "2022-07-13T20:11:26.950433Z",
     "shell.execute_reply": "2022-07-13T20:11:26.949303Z"
    },
    "papermill": {
     "duration": 0.015238,
     "end_time": "2022-07-13T20:11:26.953021",
     "exception": false,
     "start_time": "2022-07-13T20:11:26.937783",
     "status": "completed"
    },
    "tags": []
   },
   "outputs": [],
   "source": [
    "#q2.hint()\n",
    "#q2.solution()"
   ]
  },
  {
   "cell_type": "markdown",
   "id": "412fda43",
   "metadata": {
    "papermill": {
     "duration": 0.005339,
     "end_time": "2022-07-13T20:11:26.963978",
     "exception": false,
     "start_time": "2022-07-13T20:11:26.958639",
     "status": "completed"
    },
    "tags": []
   },
   "source": [
    "## 3.\n",
    "Sometimes the price column is null. How many reviews in the dataset are missing a price?"
   ]
  },
  {
   "cell_type": "code",
   "execution_count": 6,
   "id": "8371d66f",
   "metadata": {
    "execution": {
     "iopub.execute_input": "2022-07-13T20:11:26.977277Z",
     "iopub.status.busy": "2022-07-13T20:11:26.976466Z",
     "iopub.status.idle": "2022-07-13T20:11:26.987710Z",
     "shell.execute_reply": "2022-07-13T20:11:26.986477Z"
    },
    "papermill": {
     "duration": 0.020883,
     "end_time": "2022-07-13T20:11:26.990332",
     "exception": false,
     "start_time": "2022-07-13T20:11:26.969449",
     "status": "completed"
    },
    "tags": []
   },
   "outputs": [
    {
     "data": {
      "application/javascript": [
       "parent.postMessage({\"jupyterEvent\": \"custom.exercise_interaction\", \"data\": {\"outcomeType\": 1, \"valueTowardsCompletion\": 0.25, \"interactionType\": 1, \"questionType\": 1, \"questionId\": \"3_CountMissingPrices\", \"learnToolsVersion\": \"0.3.4\", \"failureMessage\": \"\", \"exceptionClass\": \"\", \"trace\": \"\"}}, \"*\")"
      ],
      "text/plain": [
       "<IPython.core.display.Javascript object>"
      ]
     },
     "metadata": {},
     "output_type": "display_data"
    },
    {
     "data": {
      "text/markdown": [
       "<span style=\"color:#33cc33\">Correct</span>"
      ],
      "text/plain": [
       "Correct"
      ]
     },
     "metadata": {},
     "output_type": "display_data"
    }
   ],
   "source": [
    "n_missing_prices = pd.isnull(reviews.price).sum()\n",
    "\n",
    "# Check your answer\n",
    "q3.check()"
   ]
  },
  {
   "cell_type": "code",
   "execution_count": 7,
   "id": "2af504f8",
   "metadata": {
    "execution": {
     "iopub.execute_input": "2022-07-13T20:11:27.004655Z",
     "iopub.status.busy": "2022-07-13T20:11:27.004176Z",
     "iopub.status.idle": "2022-07-13T20:11:27.007939Z",
     "shell.execute_reply": "2022-07-13T20:11:27.007045Z"
    },
    "papermill": {
     "duration": 0.0145,
     "end_time": "2022-07-13T20:11:27.010908",
     "exception": false,
     "start_time": "2022-07-13T20:11:26.996408",
     "status": "completed"
    },
    "tags": []
   },
   "outputs": [],
   "source": [
    "#q3.hint()\n",
    "#q3.solution()"
   ]
  },
  {
   "cell_type": "markdown",
   "id": "f9bdc17a",
   "metadata": {
    "papermill": {
     "duration": 0.005827,
     "end_time": "2022-07-13T20:11:27.022851",
     "exception": false,
     "start_time": "2022-07-13T20:11:27.017024",
     "status": "completed"
    },
    "tags": []
   },
   "source": [
    "## 4.\n",
    "What are the most common wine-producing regions? Create a Series counting the number of times each value occurs in the `region_1` field. This field is often missing data, so replace missing values with `Unknown`. Sort in descending order.  Your output should look something like this:\n",
    "\n",
    "```\n",
    "Unknown                    21247\n",
    "Napa Valley                 4480\n",
    "                           ...  \n",
    "Bardolino Superiore            1\n",
    "Primitivo del Tarantino        1\n",
    "Name: region_1, Length: 1230, dtype: int64\n",
    "```"
   ]
  },
  {
   "cell_type": "code",
   "execution_count": 8,
   "id": "7953a207",
   "metadata": {
    "execution": {
     "iopub.execute_input": "2022-07-13T20:11:27.036479Z",
     "iopub.status.busy": "2022-07-13T20:11:27.036093Z",
     "iopub.status.idle": "2022-07-13T20:11:27.117978Z",
     "shell.execute_reply": "2022-07-13T20:11:27.116523Z"
    },
    "papermill": {
     "duration": 0.091648,
     "end_time": "2022-07-13T20:11:27.120687",
     "exception": false,
     "start_time": "2022-07-13T20:11:27.029039",
     "status": "completed"
    },
    "tags": []
   },
   "outputs": [
    {
     "data": {
      "application/javascript": [
       "parent.postMessage({\"jupyterEvent\": \"custom.exercise_interaction\", \"data\": {\"outcomeType\": 1, \"valueTowardsCompletion\": 0.25, \"interactionType\": 1, \"questionType\": 2, \"questionId\": \"4_ReviewsPerRegion\", \"learnToolsVersion\": \"0.3.4\", \"failureMessage\": \"\", \"exceptionClass\": \"\", \"trace\": \"\"}}, \"*\")"
      ],
      "text/plain": [
       "<IPython.core.display.Javascript object>"
      ]
     },
     "metadata": {},
     "output_type": "display_data"
    },
    {
     "data": {
      "text/markdown": [
       "<span style=\"color:#33cc33\">Correct</span>"
      ],
      "text/plain": [
       "Correct"
      ]
     },
     "metadata": {},
     "output_type": "display_data"
    }
   ],
   "source": [
    "reviews_per_region = reviews.region_1.fillna('Unknown').value_counts().sort_values(ascending=False)# Check your answer\n",
    "q4.check()"
   ]
  },
  {
   "cell_type": "code",
   "execution_count": 9,
   "id": "4a87fe32",
   "metadata": {
    "execution": {
     "iopub.execute_input": "2022-07-13T20:11:27.135733Z",
     "iopub.status.busy": "2022-07-13T20:11:27.135329Z",
     "iopub.status.idle": "2022-07-13T20:11:27.145002Z",
     "shell.execute_reply": "2022-07-13T20:11:27.143860Z"
    },
    "papermill": {
     "duration": 0.020446,
     "end_time": "2022-07-13T20:11:27.147512",
     "exception": false,
     "start_time": "2022-07-13T20:11:27.127066",
     "status": "completed"
    },
    "tags": []
   },
   "outputs": [
    {
     "data": {
      "application/javascript": [
       "parent.postMessage({\"jupyterEvent\": \"custom.exercise_interaction\", \"data\": {\"interactionType\": 3, \"questionType\": 2, \"questionId\": \"4_ReviewsPerRegion\", \"learnToolsVersion\": \"0.3.4\", \"valueTowardsCompletion\": 0.0, \"failureMessage\": \"\", \"exceptionClass\": \"\", \"trace\": \"\", \"outcomeType\": 4}}, \"*\")"
      ],
      "text/plain": [
       "<IPython.core.display.Javascript object>"
      ]
     },
     "metadata": {},
     "output_type": "display_data"
    },
    {
     "data": {
      "text/markdown": [
       "<span style=\"color:#33cc99\">Solution:</span> \n",
       "```python\n",
       "reviews_per_region = reviews.region_1.fillna('Unknown').value_counts().sort_values(ascending=False)\n",
       "```"
      ],
      "text/plain": [
       "Solution: \n",
       "```python\n",
       "reviews_per_region = reviews.region_1.fillna('Unknown').value_counts().sort_values(ascending=False)\n",
       "```"
      ]
     },
     "metadata": {},
     "output_type": "display_data"
    }
   ],
   "source": [
    "#q4.hint()\n",
    "q4.solution()"
   ]
  },
  {
   "cell_type": "markdown",
   "id": "4501d64a",
   "metadata": {
    "papermill": {
     "duration": 0.006106,
     "end_time": "2022-07-13T20:11:27.159985",
     "exception": false,
     "start_time": "2022-07-13T20:11:27.153879",
     "status": "completed"
    },
    "tags": []
   },
   "source": [
    "# Keep going\n",
    "\n",
    "Move on to **[renaming and combining](https://www.kaggle.com/residentmario/renaming-and-combining)**."
   ]
  },
  {
   "cell_type": "markdown",
   "id": "5ef0d571",
   "metadata": {
    "papermill": {
     "duration": 0.006077,
     "end_time": "2022-07-13T20:11:27.172402",
     "exception": false,
     "start_time": "2022-07-13T20:11:27.166325",
     "status": "completed"
    },
    "tags": []
   },
   "source": [
    "---\n",
    "\n",
    "\n",
    "\n",
    "\n",
    "*Have questions or comments? Visit the [course discussion forum](https://www.kaggle.com/learn/pandas/discussion) to chat with other learners.*"
   ]
  }
 ],
 "metadata": {
  "kernelspec": {
   "display_name": "Python 3",
   "language": "python",
   "name": "python3"
  },
  "language_info": {
   "codemirror_mode": {
    "name": "ipython",
    "version": 3
   },
   "file_extension": ".py",
   "mimetype": "text/x-python",
   "name": "python",
   "nbconvert_exporter": "python",
   "pygments_lexer": "ipython3",
   "version": "3.7.12"
  },
  "papermill": {
   "default_parameters": {},
   "duration": 14.971565,
   "end_time": "2022-07-13T20:11:27.900402",
   "environment_variables": {},
   "exception": null,
   "input_path": "__notebook__.ipynb",
   "output_path": "__notebook__.ipynb",
   "parameters": {},
   "start_time": "2022-07-13T20:11:12.928837",
   "version": "2.3.4"
  }
 },
 "nbformat": 4,
 "nbformat_minor": 5
}
